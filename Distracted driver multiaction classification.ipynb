{
 "cells": [
  {
   "cell_type": "markdown",
   "id": "0b4064dd",
   "metadata": {},
   "source": [
    "# Distracted Driver MultiAction Classification"
   ]
  },
  {
   "cell_type": "code",
   "execution_count": 3,
   "id": "a239b479",
   "metadata": {},
   "outputs": [
    {
     "data": {
      "text/plain": [
       "'D:\\\\sunil\\\\DLProject4'"
      ]
     },
     "execution_count": 3,
     "metadata": {},
     "output_type": "execute_result"
    }
   ],
   "source": [
    "import os\n",
    "os.getcwd()"
   ]
  },
  {
   "cell_type": "markdown",
   "id": "70fe8cc2",
   "metadata": {},
   "source": [
    "## Import Libraries"
   ]
  },
  {
   "cell_type": "code",
   "execution_count": 11,
   "id": "96a2f229",
   "metadata": {},
   "outputs": [],
   "source": [
    "import numpy as np\n",
    "import pandas as pd\n",
    "import os\n",
    "import warnings\n",
    "warnings.filterwarnings('ignore')\n",
    "from tensorflow.keras.models import  Sequential\n",
    "from tensorflow.keras.layers import Conv2D,Flatten,Dense,MaxPooling2D,Dropout"
   ]
  },
  {
   "cell_type": "code",
   "execution_count": 218,
   "id": "fdb215b7",
   "metadata": {},
   "outputs": [],
   "source": [
    "from tensorflow.keras.layers import Conv2D, MaxPooling2D, Dense, Dropout, Flatten, Activation, BatchNormalization"
   ]
  },
  {
   "cell_type": "code",
   "execution_count": 212,
   "id": "a5a816fa",
   "metadata": {},
   "outputs": [],
   "source": [
    "import cv2"
   ]
  },
  {
   "cell_type": "code",
   "execution_count": 13,
   "id": "1bdb065a",
   "metadata": {},
   "outputs": [
    {
     "data": {
      "text/plain": [
       "79726"
      ]
     },
     "execution_count": 13,
     "metadata": {},
     "output_type": "execute_result"
    }
   ],
   "source": [
    "len(os.listdir('test'))"
   ]
  },
  {
   "cell_type": "code",
   "execution_count": 16,
   "id": "f1decd9e",
   "metadata": {},
   "outputs": [
    {
     "name": "stdout",
     "output_type": "stream",
     "text": [
      "2489\n"
     ]
    }
   ],
   "source": [
    "print(len(os.listdir('train/c0')))"
   ]
  },
  {
   "cell_type": "code",
   "execution_count": 18,
   "id": "2668e7bd",
   "metadata": {},
   "outputs": [
    {
     "name": "stdout",
     "output_type": "stream",
     "text": [
      "2267\n",
      "2317\n",
      "2346\n",
      "2326\n",
      "2312\n",
      "2325\n",
      "2002\n",
      "1911\n",
      "2129\n"
     ]
    }
   ],
   "source": [
    "print(len(os.listdir('train/c1')))\n",
    "print(len(os.listdir('train/c2')))\n",
    "print(len(os.listdir('train/c3')))\n",
    "print(len(os.listdir('train/c4')))\n",
    "print(len(os.listdir('train/c5')))\n",
    "print(len(os.listdir('train/c6')))\n",
    "print(len(os.listdir('train/c7')))\n",
    "print(len(os.listdir('train/c8')))\n",
    "print(len(os.listdir('train/c9')))"
   ]
  },
  {
   "cell_type": "code",
   "execution_count": 19,
   "id": "565cec2b",
   "metadata": {},
   "outputs": [],
   "source": [
    "# model=Sequential()\n",
    "# model.add(Conv2D(32,(5,5),input_shape=(64,64,3),activation='relu'))\n",
    "# model.add(MaxPooling2D(pool_size=(2,2)))\n",
    "\n",
    "# model.add(Conv2D(64,(5,5),activation='relu'))\n",
    "# model.add(MaxPooling2D(pool_size=(2,2)))\n",
    "\n",
    "# model.add(Flatten())\n",
    "# model.add(Dense(1024,activation='relu'))\n",
    "# model.add(Dropout(0.2))\n",
    "# model.add(Dense(200,activation='relu'))\n",
    "# model.add(Dropout(0.2))\n",
    "\n",
    "# model.add(Dense(10,activation=\"relu\"))"
   ]
  },
  {
   "cell_type": "code",
   "execution_count": 20,
   "id": "9652b1e0",
   "metadata": {},
   "outputs": [],
   "source": [
    "# model.compile(optimizer='adam',loss='categorical_crossentropy',metrics=['accuracy'])"
   ]
  },
  {
   "cell_type": "code",
   "execution_count": 21,
   "id": "7e7f3fd8",
   "metadata": {},
   "outputs": [],
   "source": [
    "from tensorflow.keras.preprocessing.image import ImageDataGenerator"
   ]
  },
  {
   "cell_type": "code",
   "execution_count": 33,
   "id": "06925ecf",
   "metadata": {},
   "outputs": [],
   "source": [
    "train_datagen = ImageDataGenerator(\n",
    "    rescale=1./255,\n",
    "    shear_range=0.2,\n",
    "    zoom_range=0.2,\n",
    "    horizontal_flip=True,validation_split=0.20)"
   ]
  },
  {
   "cell_type": "code",
   "execution_count": 22,
   "id": "484e9a52",
   "metadata": {},
   "outputs": [],
   "source": [
    "test_datagen = ImageDataGenerator(rescale=1./255)"
   ]
  },
  {
   "cell_type": "markdown",
   "id": "ad3522ec",
   "metadata": {},
   "source": [
    "## Image Generators"
   ]
  },
  {
   "cell_type": "code",
   "execution_count": 34,
   "id": "27a528b6",
   "metadata": {},
   "outputs": [
    {
     "name": "stdout",
     "output_type": "stream",
     "text": [
      "Found 17943 images belonging to 10 classes.\n"
     ]
    }
   ],
   "source": [
    "train_generator = train_datagen.flow_from_directory(\n",
    "        'train',\n",
    "        target_size=(64, 64),\n",
    "        batch_size=32,\n",
    "        class_mode='categorical',\n",
    "        subset='training'\n",
    "        )"
   ]
  },
  {
   "cell_type": "code",
   "execution_count": 35,
   "id": "f5919c9a",
   "metadata": {},
   "outputs": [
    {
     "name": "stdout",
     "output_type": "stream",
     "text": [
      "Found 4481 images belonging to 10 classes.\n"
     ]
    }
   ],
   "source": [
    "validation_generator = train_datagen.flow_from_directory(\n",
    "        'train',\n",
    "         target_size=(64, 64),\n",
    "         batch_size=32,\n",
    "        class_mode='categorical',\n",
    "         subset='validation'\n",
    "        )"
   ]
  },
  {
   "cell_type": "code",
   "execution_count": 142,
   "id": "4a4f1e49",
   "metadata": {},
   "outputs": [
    {
     "name": "stdout",
     "output_type": "stream",
     "text": [
      "Found 79726 images belonging to 1 classes.\n"
     ]
    }
   ],
   "source": [
    "test_generator = test_datagen.flow_from_directory(\n",
    "    './Test1',\n",
    "        target_size=(64, 64),\n",
    "        batch_size=2,\n",
    "        shuffle=False,\n",
    "        class_mode='categorical',classes=['Test1']\n",
    "    \n",
    ")"
   ]
  },
  {
   "cell_type": "markdown",
   "id": "57fb2c0f",
   "metadata": {},
   "source": [
    "## Layers"
   ]
  },
  {
   "cell_type": "code",
   "execution_count": 46,
   "id": "e280bd4e",
   "metadata": {},
   "outputs": [],
   "source": [
    "mod = Sequential()\n",
    "mod.add(Conv2D(32,kernel_size=(5,5),activation='relu',input_shape=(64,64,3)))\n",
    "mod.add(BatchNormalization())\n",
    "mod.add(MaxPooling2D(pool_size=(2,2),padding='same'))\n",
    "mod.add(Dropout(0.3))\n",
    "mod.add(Conv2D(64,kernel_size=(5,5),activation='relu',padding='same'))\n",
    "mod.add(BatchNormalization())\n",
    "mod.add(MaxPooling2D(pool_size=(2,2),padding='same'))\n",
    "mod.add(Dropout(0.3))\n",
    "mod.add(Conv2D(128,kernel_size=(5,5),activation='relu',padding='same'))\n",
    "mod.add(BatchNormalization())\n",
    "mod.add(MaxPooling2D(pool_size=(2,2),padding='same'))\n",
    "mod.add(Dropout(0.5))\n",
    "mod.add(Flatten())\n",
    "mod.add(Dense(units = 512,activation='relu'))\n",
    "mod.add(BatchNormalization())\n",
    "mod.add(Dropout(0.5))\n",
    "mod.add(Dense(units = 128,activation='relu'))\n",
    "mod.add(Dropout(0.25))\n",
    "mod.add(Dense(10,activation='softmax'))"
   ]
  },
  {
   "cell_type": "code",
   "execution_count": 47,
   "id": "af38d5ad",
   "metadata": {},
   "outputs": [],
   "source": [
    "mod.compile(optimizer='adam',loss='categorical_crossentropy',metrics=['accuracy'])"
   ]
  },
  {
   "cell_type": "markdown",
   "id": "1636d085",
   "metadata": {},
   "source": [
    "## Model Fit"
   ]
  },
  {
   "cell_type": "code",
   "execution_count": 48,
   "id": "6356937e",
   "metadata": {},
   "outputs": [],
   "source": [
    "STEPS_PER_EPOCH = train_generator.n//train_generator.batch_size\n",
    "VALIDATION_STEPS=validation_generator.n//train_generator.batch_size"
   ]
  },
  {
   "cell_type": "code",
   "execution_count": 49,
   "id": "38904353",
   "metadata": {},
   "outputs": [
    {
     "name": "stdout",
     "output_type": "stream",
     "text": [
      "Epoch 1/5\n",
      "560/560 [==============================] - 569s 1s/step - loss: 1.9555 - accuracy: 0.3503 - val_loss: 1.4016 - val_accuracy: 0.4844\n",
      "Epoch 2/5\n",
      "560/560 [==============================] - 580s 1s/step - loss: 1.1019 - accuracy: 0.6080 - val_loss: 0.6570 - val_accuracy: 0.7717\n",
      "Epoch 3/5\n",
      "560/560 [==============================] - 584s 1s/step - loss: 0.7933 - accuracy: 0.7236 - val_loss: 0.4380 - val_accuracy: 0.8549\n",
      "Epoch 4/5\n",
      "560/560 [==============================] - 574s 1s/step - loss: 0.6146 - accuracy: 0.7903 - val_loss: 0.3707 - val_accuracy: 0.8868\n",
      "Epoch 5/5\n",
      "560/560 [==============================] - 581s 1s/step - loss: 0.5190 - accuracy: 0.8287 - val_loss: 0.2592 - val_accuracy: 0.9185\n"
     ]
    }
   ],
   "source": [
    "model2=mod.fit(\n",
    "        train_generator,\n",
    "        steps_per_epoch=STEPS_PER_EPOCH,\n",
    "        epochs=5,\n",
    "        validation_data=validation_generator,\n",
    "        validation_steps=VALIDATION_STEPS)"
   ]
  },
  {
   "cell_type": "code",
   "execution_count": 50,
   "id": "52fd74de",
   "metadata": {},
   "outputs": [],
   "source": [
    "%matplotlib inline  \n",
    "import matplotlib.pyplot as plt"
   ]
  },
  {
   "cell_type": "markdown",
   "id": "dbca3123",
   "metadata": {},
   "source": [
    "## Accuracy & Loss Plots"
   ]
  },
  {
   "cell_type": "code",
   "execution_count": 51,
   "id": "dce56f51",
   "metadata": {},
   "outputs": [
    {
     "data": {
      "image/png": "[encoded data removed]",
      "text/plain": [
       "<Figure size 432x288 with 1 Axes>"
      ]
     },
     "metadata": {
      "needs_background": "light"
     },
     "output_type": "display_data"
    },
    {
     "data": {
      "image/png": "[encoded data removed]",
      "text/plain": [
       "<Figure size 432x288 with 1 Axes>"
      ]
     },
     "metadata": {
      "needs_background": "light"
     },
     "output_type": "display_data"
    }
   ],
   "source": [
    "acc = model2.history['accuracy']\n",
    "val_acc = model2.history['val_accuracy']\n",
    "loss = model2.history['loss']\n",
    "val_loss = model2.history['val_loss']\n",
    "epochs = range(1, len(acc) + 1)\n",
    "plt.plot(epochs, acc, 'r', label='Training acc')\n",
    "plt.plot(epochs, val_acc, 'b', label='Validation acc')\n",
    "plt.title('Training and validation accuracy')\n",
    "plt.legend()\n",
    "plt.figure()\n",
    "#plotting train and validation losses\n",
    "plt.plot(epochs, loss, 'r', label='Training loss')\n",
    "plt.plot(epochs, val_loss, 'b', label='Validation loss')\n",
    "plt.title('Training and validation loss')\n",
    "plt.legend()\n",
    "plt.show()"
   ]
  },
  {
   "cell_type": "markdown",
   "id": "2dd9d61b",
   "metadata": {},
   "source": [
    "## Predict  Generator"
   ]
  },
  {
   "cell_type": "code",
   "execution_count": 144,
   "id": "d6cf0ffa",
   "metadata": {},
   "outputs": [
    {
     "name": "stdout",
     "output_type": "stream",
     "text": [
      "39863/39863 [==============================] - 1553s 39ms/step\n"
     ]
    }
   ],
   "source": [
    "STEP_SIZE_TEST=test_generator.n//test_generator.batch_size\n",
    "test_generator.reset()\n",
    "pred=mod.predict_generator(test_generator,\n",
    "steps=STEP_SIZE_TEST,\n",
    "verbose=1)"
   ]
  },
  {
   "cell_type": "code",
   "execution_count": 145,
   "id": "0148a7f6",
   "metadata": {},
   "outputs": [
    {
     "data": {
      "text/plain": [
       "array([[1.7305439e-06, 5.3204044e-08, 4.7908128e-07, ..., 9.7636473e-08,\n",
       "        1.0445950e-06, 4.8679722e-06],\n",
       "       [1.3753398e-04, 2.4982660e-06, 3.0736155e-05, ..., 2.6737955e-05,\n",
       "        6.5334949e-05, 1.2256030e-04],\n",
       "       [1.0847434e-01, 7.5281775e-01, 1.9962897e-03, ..., 4.3186202e-04,\n",
       "        1.6508729e-03, 9.2625059e-02],\n",
       "       ...,\n",
       "       [4.1846079e-03, 2.7776090e-03, 6.0881026e-02, ..., 2.2478862e-02,\n",
       "        1.7531127e-01, 1.6006280e-01],\n",
       "       [6.4399239e-07, 6.1657988e-07, 1.2392704e-01, ..., 1.0901040e-06,\n",
       "        1.2151455e-03, 4.2192887e-08],\n",
       "       [6.2397810e-08, 2.1961453e-09, 1.0168871e-11, ..., 3.7798101e-10,\n",
       "        2.0696105e-07, 9.7500364e-05]], dtype=float32)"
      ]
     },
     "execution_count": 145,
     "metadata": {},
     "output_type": "execute_result"
    }
   ],
   "source": [
    "pred"
   ]
  },
  {
   "cell_type": "code",
   "execution_count": 146,
   "id": "a77b9112",
   "metadata": {},
   "outputs": [
    {
     "data": {
      "text/plain": [
       "79726"
      ]
     },
     "execution_count": 146,
     "metadata": {},
     "output_type": "execute_result"
    }
   ],
   "source": [
    "len(pred)"
   ]
  },
  {
   "cell_type": "code",
   "execution_count": 155,
   "id": "3a610e36",
   "metadata": {},
   "outputs": [
    {
     "data": {
      "text/html": [
       "<div>\n",
       "<style scoped>\n",
       "    .dataframe tbody tr th:only-of-type {\n",
       "        vertical-align: middle;\n",
       "    }\n",
       "\n",
       "    .dataframe tbody tr th {\n",
       "        vertical-align: top;\n",
       "    }\n",
       "\n",
       "    .dataframe thead th {\n",
       "        text-align: right;\n",
       "    }\n",
       "</style>\n",
       "<table border=\"1\" class=\"dataframe\">\n",
       "  <thead>\n",
       "    <tr style=\"text-align: right;\">\n",
       "      <th></th>\n",
       "      <th>0</th>\n",
       "      <th>1</th>\n",
       "      <th>2</th>\n",
       "      <th>3</th>\n",
       "      <th>4</th>\n",
       "      <th>5</th>\n",
       "      <th>6</th>\n",
       "      <th>7</th>\n",
       "      <th>8</th>\n",
       "      <th>9</th>\n",
       "    </tr>\n",
       "  </thead>\n",
       "  <tbody>\n",
       "    <tr>\n",
       "      <th>0</th>\n",
       "      <td>1.730544e-06</td>\n",
       "      <td>5.320404e-08</td>\n",
       "      <td>4.790813e-07</td>\n",
       "      <td>1.652335e-07</td>\n",
       "      <td>3.960202e-07</td>\n",
       "      <td>0.999991</td>\n",
       "      <td>2.909425e-08</td>\n",
       "      <td>9.763647e-08</td>\n",
       "      <td>1.044595e-06</td>\n",
       "      <td>4.867972e-06</td>\n",
       "    </tr>\n",
       "    <tr>\n",
       "      <th>1</th>\n",
       "      <td>1.375340e-04</td>\n",
       "      <td>2.498266e-06</td>\n",
       "      <td>3.073616e-05</td>\n",
       "      <td>2.631879e-04</td>\n",
       "      <td>3.687149e-04</td>\n",
       "      <td>0.998959</td>\n",
       "      <td>2.341278e-05</td>\n",
       "      <td>2.673795e-05</td>\n",
       "      <td>6.533495e-05</td>\n",
       "      <td>1.225603e-04</td>\n",
       "    </tr>\n",
       "    <tr>\n",
       "      <th>2</th>\n",
       "      <td>1.084743e-01</td>\n",
       "      <td>7.528177e-01</td>\n",
       "      <td>1.996290e-03</td>\n",
       "      <td>1.807433e-02</td>\n",
       "      <td>2.232615e-02</td>\n",
       "      <td>0.000320</td>\n",
       "      <td>1.283117e-03</td>\n",
       "      <td>4.318620e-04</td>\n",
       "      <td>1.650873e-03</td>\n",
       "      <td>9.262506e-02</td>\n",
       "    </tr>\n",
       "    <tr>\n",
       "      <th>3</th>\n",
       "      <td>3.348594e-03</td>\n",
       "      <td>3.012411e-02</td>\n",
       "      <td>1.832465e-01</td>\n",
       "      <td>2.086120e-04</td>\n",
       "      <td>2.236726e-03</td>\n",
       "      <td>0.024858</td>\n",
       "      <td>6.409273e-01</td>\n",
       "      <td>1.189488e-03</td>\n",
       "      <td>7.192661e-02</td>\n",
       "      <td>4.193456e-02</td>\n",
       "    </tr>\n",
       "    <tr>\n",
       "      <th>4</th>\n",
       "      <td>2.597577e-02</td>\n",
       "      <td>9.820928e-06</td>\n",
       "      <td>7.573361e-05</td>\n",
       "      <td>8.860028e-01</td>\n",
       "      <td>3.713795e-02</td>\n",
       "      <td>0.044650</td>\n",
       "      <td>2.635997e-06</td>\n",
       "      <td>3.386161e-05</td>\n",
       "      <td>3.174535e-03</td>\n",
       "      <td>2.936851e-03</td>\n",
       "    </tr>\n",
       "    <tr>\n",
       "      <th>...</th>\n",
       "      <td>...</td>\n",
       "      <td>...</td>\n",
       "      <td>...</td>\n",
       "      <td>...</td>\n",
       "      <td>...</td>\n",
       "      <td>...</td>\n",
       "      <td>...</td>\n",
       "      <td>...</td>\n",
       "      <td>...</td>\n",
       "      <td>...</td>\n",
       "    </tr>\n",
       "    <tr>\n",
       "      <th>79721</th>\n",
       "      <td>1.463627e-03</td>\n",
       "      <td>2.413444e-01</td>\n",
       "      <td>3.692250e-03</td>\n",
       "      <td>7.770439e-06</td>\n",
       "      <td>3.664679e-04</td>\n",
       "      <td>0.696756</td>\n",
       "      <td>7.672360e-03</td>\n",
       "      <td>1.474616e-02</td>\n",
       "      <td>3.277188e-03</td>\n",
       "      <td>3.067383e-02</td>\n",
       "    </tr>\n",
       "    <tr>\n",
       "      <th>79722</th>\n",
       "      <td>3.191213e-02</td>\n",
       "      <td>9.086592e-01</td>\n",
       "      <td>2.215840e-02</td>\n",
       "      <td>2.875448e-02</td>\n",
       "      <td>1.896309e-04</td>\n",
       "      <td>0.000105</td>\n",
       "      <td>4.206556e-03</td>\n",
       "      <td>1.117384e-05</td>\n",
       "      <td>1.370779e-03</td>\n",
       "      <td>2.632967e-03</td>\n",
       "    </tr>\n",
       "    <tr>\n",
       "      <th>79723</th>\n",
       "      <td>4.184608e-03</td>\n",
       "      <td>2.777609e-03</td>\n",
       "      <td>6.088103e-02</td>\n",
       "      <td>1.405726e-03</td>\n",
       "      <td>4.887285e-01</td>\n",
       "      <td>0.029556</td>\n",
       "      <td>5.461388e-02</td>\n",
       "      <td>2.247886e-02</td>\n",
       "      <td>1.753113e-01</td>\n",
       "      <td>1.600628e-01</td>\n",
       "    </tr>\n",
       "    <tr>\n",
       "      <th>79724</th>\n",
       "      <td>6.439924e-07</td>\n",
       "      <td>6.165799e-07</td>\n",
       "      <td>1.239270e-01</td>\n",
       "      <td>3.763116e-10</td>\n",
       "      <td>3.938625e-07</td>\n",
       "      <td>0.000002</td>\n",
       "      <td>8.748530e-01</td>\n",
       "      <td>1.090104e-06</td>\n",
       "      <td>1.215145e-03</td>\n",
       "      <td>4.219289e-08</td>\n",
       "    </tr>\n",
       "    <tr>\n",
       "      <th>79725</th>\n",
       "      <td>6.239781e-08</td>\n",
       "      <td>2.196145e-09</td>\n",
       "      <td>1.016887e-11</td>\n",
       "      <td>3.065101e-11</td>\n",
       "      <td>1.651025e-10</td>\n",
       "      <td>0.999902</td>\n",
       "      <td>1.634681e-10</td>\n",
       "      <td>3.779810e-10</td>\n",
       "      <td>2.069610e-07</td>\n",
       "      <td>9.750036e-05</td>\n",
       "    </tr>\n",
       "  </tbody>\n",
       "</table>\n",
       "<p>79726 rows × 10 columns</p>\n",
       "</div>"
      ],
      "text/plain": [
       "                  0             1             2             3             4  \\\n",
       "0      1.730544e-06  5.320404e-08  4.790813e-07  1.652335e-07  3.960202e-07   \n",
       "1      1.375340e-04  2.498266e-06  3.073616e-05  2.631879e-04  3.687149e-04   \n",
       "2      1.084743e-01  7.528177e-01  1.996290e-03  1.807433e-02  2.232615e-02   \n",
       "3      3.348594e-03  3.012411e-02  1.832465e-01  2.086120e-04  2.236726e-03   \n",
       "4      2.597577e-02  9.820928e-06  7.573361e-05  8.860028e-01  3.713795e-02   \n",
       "...             ...           ...           ...           ...           ...   \n",
       "79721  1.463627e-03  2.413444e-01  3.692250e-03  7.770439e-06  3.664679e-04   \n",
       "79722  3.191213e-02  9.086592e-01  2.215840e-02  2.875448e-02  1.896309e-04   \n",
       "79723  4.184608e-03  2.777609e-03  6.088103e-02  1.405726e-03  4.887285e-01   \n",
       "79724  6.439924e-07  6.165799e-07  1.239270e-01  3.763116e-10  3.938625e-07   \n",
       "79725  6.239781e-08  2.196145e-09  1.016887e-11  3.065101e-11  1.651025e-10   \n",
       "\n",
       "              5             6             7             8             9  \n",
       "0      0.999991  2.909425e-08  9.763647e-08  1.044595e-06  4.867972e-06  \n",
       "1      0.998959  2.341278e-05  2.673795e-05  6.533495e-05  1.225603e-04  \n",
       "2      0.000320  1.283117e-03  4.318620e-04  1.650873e-03  9.262506e-02  \n",
       "3      0.024858  6.409273e-01  1.189488e-03  7.192661e-02  4.193456e-02  \n",
       "4      0.044650  2.635997e-06  3.386161e-05  3.174535e-03  2.936851e-03  \n",
       "...         ...           ...           ...           ...           ...  \n",
       "79721  0.696756  7.672360e-03  1.474616e-02  3.277188e-03  3.067383e-02  \n",
       "79722  0.000105  4.206556e-03  1.117384e-05  1.370779e-03  2.632967e-03  \n",
       "79723  0.029556  5.461388e-02  2.247886e-02  1.753113e-01  1.600628e-01  \n",
       "79724  0.000002  8.748530e-01  1.090104e-06  1.215145e-03  4.219289e-08  \n",
       "79725  0.999902  1.634681e-10  3.779810e-10  2.069610e-07  9.750036e-05  \n",
       "\n",
       "[79726 rows x 10 columns]"
      ]
     },
     "execution_count": 155,
     "metadata": {},
     "output_type": "execute_result"
    }
   ],
   "source": [
    "labels_test_predictions = pd.DataFrame(pred)\n",
    "labels_test_predictions"
   ]
  },
  {
   "cell_type": "code",
   "execution_count": 159,
   "id": "b6e4be96",
   "metadata": {},
   "outputs": [],
   "source": [
    "labels_test_predictions.columns = [\"c\"+str(x) for x in labels_test_predictions.columns]"
   ]
  },
  {
   "cell_type": "code",
   "execution_count": 161,
   "id": "c10f42d1",
   "metadata": {},
   "outputs": [],
   "source": [
    "labels_test_predictions.insert(0,\"img\",[x.split(\"\\\\\")[1] for x in test_generator.filenames])"
   ]
  },
  {
   "cell_type": "code",
   "execution_count": 216,
   "id": "ef763457",
   "metadata": {
    "scrolled": false
   },
   "outputs": [],
   "source": [
    "labels_test_predictions=labels_test_predictions.round(2)"
   ]
  },
  {
   "cell_type": "code",
   "execution_count": 217,
   "id": "8ed8a9fe",
   "metadata": {},
   "outputs": [],
   "source": [
    "labels_test_predictions.to_csv('Distracted_Driver_MultiAction_Classification.csv',index=False)"
   ]
  },
  {
   "cell_type": "markdown",
   "id": "4796344c",
   "metadata": {},
   "source": [
    "## Model Save"
   ]
  },
  {
   "cell_type": "code",
   "execution_count": 138,
   "id": "66d9a109",
   "metadata": {},
   "outputs": [],
   "source": [
    "mod.save_weights('./driverdistraction_lr_weights.h5', overwrite=True)\n",
    "mod.save('./driverdistraction.h5')"
   ]
  }
 ],
 "metadata": {
  "kernelspec": {
   "display_name": "Python 3",
   "language": "python",
   "name": "python3"
  },
  "language_info": {
   "codemirror_mode": {
    "name": "ipython",
    "version": 3
   },
   "file_extension": ".py",
   "mimetype": "text/x-python",
   "name": "python",
   "nbconvert_exporter": "python",
   "pygments_lexer": "ipython3",
   "version": "3.8.8"
  }
 },
 "nbformat": 4,
 "nbformat_minor": 5
}
