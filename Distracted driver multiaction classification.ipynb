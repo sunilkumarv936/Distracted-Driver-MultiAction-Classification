{
 "cells": [
  {
   "cell_type": "markdown",
   "id": "0b4064dd",
   "metadata": {},
   "source": [
    "# Distracted Driver MultiAction Classification"
   ]
  },
  {
   "cell_type": "code",
   "execution_count": 1,
   "id": "a239b479",
   "metadata": {},
   "outputs": [
    {
     "data": {
      "text/plain": [
       "'D:\\\\DLProject4'"
      ]
     },
     "execution_count": 1,
     "metadata": {},
     "output_type": "execute_result"
    }
   ],
   "source": [
    "import os\n",
    "os.getcwd()"
   ]
  },
  {
   "cell_type": "markdown",
   "id": "70fe8cc2",
   "metadata": {},
   "source": [
    "## Import Libraries"
   ]
  },
  {
   "cell_type": "code",
   "execution_count": 3,
   "id": "96a2f229",
   "metadata": {},
   "outputs": [],
   "source": [
    "import numpy as np\n",
    "import pandas as pd\n",
    "import os\n",
    "import warnings\n",
    "warnings.filterwarnings('ignore')\n",
    "from tensorflow.keras.models import  Sequential\n",
    "from tensorflow.keras.layers import Conv2D,Flatten,Dense,MaxPooling2D,Dropout"
   ]
  },
  {
   "cell_type": "code",
   "execution_count": 4,
   "id": "fdb215b7",
   "metadata": {},
   "outputs": [],
   "source": [
    "from tensorflow.keras.layers import Conv2D, MaxPooling2D, Dense, Dropout, Flatten, Activation, BatchNormalization"
   ]
  },
  {
   "cell_type": "code",
   "execution_count": 6,
   "id": "a5a816fa",
   "metadata": {},
   "outputs": [],
   "source": [
    "import cv2"
   ]
  },
  {
   "cell_type": "code",
   "execution_count": 7,
   "id": "1bdb065a",
   "metadata": {},
   "outputs": [
    {
     "data": {
      "text/plain": [
       "79726"
      ]
     },
     "execution_count": 7,
     "metadata": {},
     "output_type": "execute_result"
    }
   ],
   "source": [
    "len(os.listdir('./state-farm-distracted-driver-detection/imgs/test'))"
   ]
  },
  {
   "cell_type": "code",
   "execution_count": 8,
   "id": "f1decd9e",
   "metadata": {},
   "outputs": [
    {
     "name": "stdout",
     "output_type": "stream",
     "text": [
      "2489\n"
     ]
    }
   ],
   "source": [
    "print(len(os.listdir('./state-farm-distracted-driver-detection/imgs/train/c0')))"
   ]
  },
  {
   "cell_type": "code",
   "execution_count": 18,
   "id": "2668e7bd",
   "metadata": {},
   "outputs": [
    {
     "name": "stdout",
     "output_type": "stream",
     "text": [
      "2267\n",
      "2317\n",
      "2346\n",
      "2326\n",
      "2312\n",
      "2325\n",
      "2002\n",
      "1911\n",
      "2129\n"
     ]
    }
   ],
   "source": [
    "print(len(os.listdir('./state-farm-distracted-driver-detection/imgs/train/c1')))\n",
    "print(len(os.listdir('./state-farm-distracted-driver-detection/imgs/train/c2')))\n",
    "print(len(os.listdir('./state-farm-distracted-driver-detection/imgs/train/c3')))\n",
    "print(len(os.listdir('./state-farm-distracted-driver-detection/imgs/train/c4')))\n",
    "print(len(os.listdir('./state-farm-distracted-driver-detection/imgs/train/c5')))\n",
    "print(len(os.listdir('./state-farm-distracted-driver-detection/imgs/train/c6')))\n",
    "print(len(os.listdir('./state-farm-distracted-driver-detection/imgs/train/c7')))\n",
    "print(len(os.listdir('./state-farm-distracted-driver-detection/imgs/train/c8')))\n",
    "print(len(os.listdir('./state-farm-distracted-driver-detection/imgs/train/c9')))"
   ]
  },
  {
   "cell_type": "code",
   "execution_count": 19,
   "id": "565cec2b",
   "metadata": {},
   "outputs": [],
   "source": [
    "# model=Sequential()\n",
    "# model.add(Conv2D(32,(5,5),input_shape=(64,64,3),activation='relu'))\n",
    "# model.add(MaxPooling2D(pool_size=(2,2)))\n",
    "\n",
    "# model.add(Conv2D(64,(5,5),activation='relu'))\n",
    "# model.add(MaxPooling2D(pool_size=(2,2)))\n",
    "\n",
    "# model.add(Flatten())\n",
    "# model.add(Dense(1024,activation='relu'))\n",
    "# model.add(Dropout(0.2))\n",
    "# model.add(Dense(200,activation='relu'))\n",
    "# model.add(Dropout(0.2))\n",
    "\n",
    "# model.add(Dense(10,activation=\"relu\"))"
   ]
  },
  {
   "cell_type": "code",
   "execution_count": 20,
   "id": "9652b1e0",
   "metadata": {},
   "outputs": [],
   "source": [
    "# model.compile(optimizer='adam',loss='categorical_crossentropy',metrics=['accuracy'])"
   ]
  },
  {
   "cell_type": "code",
   "execution_count": 9,
   "id": "7e7f3fd8",
   "metadata": {},
   "outputs": [],
   "source": [
    "from tensorflow.keras.preprocessing.image import ImageDataGenerator"
   ]
  },
  {
   "cell_type": "code",
   "execution_count": 10,
   "id": "06925ecf",
   "metadata": {},
   "outputs": [],
   "source": [
    "train_datagen = ImageDataGenerator(\n",
    "    rescale=1./255,\n",
    "    shear_range=0.2,\n",
    "    zoom_range=0.2,\n",
    "    horizontal_flip=True,validation_split=0.20)"
   ]
  },
  {
   "cell_type": "code",
   "execution_count": 11,
   "id": "484e9a52",
   "metadata": {},
   "outputs": [],
   "source": [
    "test_datagen = ImageDataGenerator(rescale=1./255)"
   ]
  },
  {
   "cell_type": "markdown",
   "id": "ad3522ec",
   "metadata": {},
   "source": [
    "## Image Generators"
   ]
  },
  {
   "cell_type": "code",
   "execution_count": 12,
   "id": "27a528b6",
   "metadata": {},
   "outputs": [
    {
     "name": "stdout",
     "output_type": "stream",
     "text": [
      "Found 17943 images belonging to 10 classes.\n"
     ]
    }
   ],
   "source": [
    "train_generator = train_datagen.flow_from_directory(\n",
    "        './state-farm-distracted-driver-detection/imgs/train',\n",
    "        target_size=(64, 64),\n",
    "        batch_size=32,\n",
    "        class_mode='categorical',\n",
    "        subset='training'\n",
    "        )"
   ]
  },
  {
   "cell_type": "code",
   "execution_count": 13,
   "id": "f5919c9a",
   "metadata": {},
   "outputs": [
    {
     "name": "stdout",
     "output_type": "stream",
     "text": [
      "Found 4481 images belonging to 10 classes.\n"
     ]
    }
   ],
   "source": [
    "validation_generator = train_datagen.flow_from_directory(\n",
    "        './state-farm-distracted-driver-detection/imgs/train',\n",
    "         target_size=(64, 64),\n",
    "         batch_size=32,\n",
    "        class_mode='categorical',\n",
    "         subset='validation'\n",
    "        )"
   ]
  },
  {
   "cell_type": "code",
   "execution_count": 24,
   "id": "4a4f1e49",
   "metadata": {},
   "outputs": [
    {
     "name": "stdout",
     "output_type": "stream",
     "text": [
      "Found 79726 images belonging to 1 classes.\n"
     ]
    }
   ],
   "source": [
    "test_generator = test_datagen.flow_from_directory(\n",
    "    './state-farm-distracted-driver-detection/imgs/Test1',\n",
    "        target_size=(64, 64),\n",
    "        batch_size=2,\n",
    "        shuffle=False,\n",
    "        class_mode='categorical',classes=['Test1']\n",
    "    \n",
    ")"
   ]
  },
  {
   "cell_type": "markdown",
   "id": "57fb2c0f",
   "metadata": {},
   "source": [
    "## Layers"
   ]
  },
  {
   "cell_type": "code",
   "execution_count": 14,
   "id": "e280bd4e",
   "metadata": {},
   "outputs": [],
   "source": [
    "mod = Sequential()\n",
    "mod.add(Conv2D(32,kernel_size=(5,5),activation='relu',input_shape=(64,64,3)))\n",
    "mod.add(BatchNormalization())\n",
    "mod.add(MaxPooling2D(pool_size=(2,2),padding='same'))\n",
    "mod.add(Dropout(0.3))\n",
    "\n",
    "mod.add(Conv2D(64,kernel_size=(5,5),activation='relu',padding='same'))\n",
    "mod.add(BatchNormalization())\n",
    "mod.add(MaxPooling2D(pool_size=(2,2),padding='same'))\n",
    "mod.add(Dropout(0.3))\n",
    "\n",
    "mod.add(Conv2D(128,kernel_size=(5,5),activation='relu',padding='same'))\n",
    "mod.add(BatchNormalization())\n",
    "mod.add(MaxPooling2D(pool_size=(2,2),padding='same'))\n",
    "mod.add(Dropout(0.5))\n",
    "\n",
    "mod.add(Flatten())\n",
    "mod.add(Dense(units = 512,activation='relu'))\n",
    "mod.add(BatchNormalization())\n",
    "#mod.add(Dropout(0.5))\n",
    "\n",
    "mod.add(Dense(units = 128,activation='relu'))\n",
    "#mod.add(Dropout(0.25))\n",
    "\n",
    "mod.add(Dense(10,activation='softmax'))"
   ]
  },
  {
   "cell_type": "code",
   "execution_count": 15,
   "id": "af38d5ad",
   "metadata": {},
   "outputs": [],
   "source": [
    "mod.compile(optimizer='adam',loss='categorical_crossentropy',metrics=['accuracy'])"
   ]
  },
  {
   "cell_type": "markdown",
   "id": "1636d085",
   "metadata": {},
   "source": [
    "## Model Fit"
   ]
  },
  {
   "cell_type": "code",
   "execution_count": 16,
   "id": "6356937e",
   "metadata": {},
   "outputs": [],
   "source": [
    "STEPS_PER_EPOCH = train_generator.n//train_generator.batch_size\n",
    "VALIDATION_STEPS=validation_generator.n//train_generator.batch_size"
   ]
  },
  {
   "cell_type": "code",
   "execution_count": 18,
   "id": "38904353",
   "metadata": {},
   "outputs": [
    {
     "name": "stdout",
     "output_type": "stream",
     "text": [
      "Epoch 1/10\n",
      "560/560 [==============================] - 1688s 3s/step - loss: 1.3117 - accuracy: 0.5426 - val_loss: 0.7747 - val_accuracy: 0.7353\n",
      "Epoch 2/10\n",
      "560/560 [==============================] - 404s 721ms/step - loss: 0.5586 - accuracy: 0.8103 - val_loss: 0.4706 - val_accuracy: 0.8513\n",
      "Epoch 3/10\n",
      "560/560 [==============================] - 427s 763ms/step - loss: 0.4032 - accuracy: 0.8665 - val_loss: 0.2967 - val_accuracy: 0.9056\n",
      "Epoch 4/10\n",
      "560/560 [==============================] - 431s 770ms/step - loss: 0.3084 - accuracy: 0.8976 - val_loss: 0.2711 - val_accuracy: 0.9134\n",
      "Epoch 5/10\n",
      "560/560 [==============================] - 437s 781ms/step - loss: 0.2480 - accuracy: 0.9195 - val_loss: 0.1892 - val_accuracy: 0.9424\n",
      "Epoch 6/10\n",
      "560/560 [==============================] - 436s 779ms/step - loss: 0.2117 - accuracy: 0.9310 - val_loss: 0.1311 - val_accuracy: 0.9629\n",
      "Epoch 7/10\n",
      "560/560 [==============================] - 597s 1s/step - loss: 0.2084 - accuracy: 0.9310 - val_loss: 0.2184 - val_accuracy: 0.9275\n",
      "Epoch 8/10\n",
      "560/560 [==============================] - 1071s 2s/step - loss: 0.1760 - accuracy: 0.9408 - val_loss: 0.1128 - val_accuracy: 0.9701\n",
      "Epoch 9/10\n",
      "560/560 [==============================] - 963s 2s/step - loss: 0.1633 - accuracy: 0.9487 - val_loss: 0.0971 - val_accuracy: 0.9712\n",
      "Epoch 10/10\n",
      "560/560 [==============================] - 410s 733ms/step - loss: 0.1390 - accuracy: 0.9533 - val_loss: 0.0948 - val_accuracy: 0.9701\n"
     ]
    }
   ],
   "source": [
    "model2=mod.fit(\n",
    "        train_generator,\n",
    "        steps_per_epoch=STEPS_PER_EPOCH,\n",
    "        epochs=10,\n",
    "        validation_data=validation_generator,\n",
    "        validation_steps=VALIDATION_STEPS)"
   ]
  },
  {
   "cell_type": "code",
   "execution_count": 19,
   "id": "52fd74de",
   "metadata": {},
   "outputs": [],
   "source": [
    "%matplotlib inline \n",
    "import matplotlib.pyplot as plt"
   ]
  },
  {
   "cell_type": "markdown",
   "id": "dbca3123",
   "metadata": {},
   "source": [
    "## Accuracy & Loss Plots"
   ]
  },
  {
   "cell_type": "code",
   "execution_count": 20,
   "id": "dce56f51",
   "metadata": {},
   "outputs": [
    {
     "data": {
      "image/png": "[encoded data removed]",
      "text/plain": [
       "<Figure size 432x288 with 1 Axes>"
      ]
     },
     "metadata": {
      "needs_background": "light"
     },
     "output_type": "display_data"
    },
    {
     "data": {
      "image/png": "[encoded data removed]",
      "text/plain": [
       "<Figure size 432x288 with 1 Axes>"
      ]
     },
     "metadata": {
      "needs_background": "light"
     },
     "output_type": "display_data"
    }
   ],
   "source": [
    "acc = model2.history['accuracy']\n",
    "val_acc = model2.history['val_accuracy']\n",
    "loss = model2.history['loss']\n",
    "val_loss = model2.history['val_loss']\n",
    "epochs = range(1, len(acc) + 1)\n",
    "plt.plot(epochs, acc, 'r', label='Training acc')\n",
    "plt.plot(epochs, val_acc, 'b', label='Validation acc')\n",
    "plt.title('Training and validation accuracy')\n",
    "plt.legend()\n",
    "plt.figure()\n",
    "#plotting train and validation losses\n",
    "plt.plot(epochs, loss, 'r', label='Training loss')\n",
    "plt.plot(epochs, val_loss, 'b', label='Validation loss')\n",
    "plt.title('Training and validation loss')\n",
    "plt.legend()\n",
    "plt.show()"
   ]
  },
  {
   "cell_type": "markdown",
   "id": "2dd9d61b",
   "metadata": {},
   "source": [
    "## Predict  Generator"
   ]
  },
  {
   "cell_type": "code",
   "execution_count": 25,
   "id": "d6cf0ffa",
   "metadata": {},
   "outputs": [
    {
     "name": "stdout",
     "output_type": "stream",
     "text": [
      "39863/39863 [==============================] - 1322s 33ms/step\n"
     ]
    }
   ],
   "source": [
    "STEP_SIZE_TEST=test_generator.n//test_generator.batch_size\n",
    "test_generator.reset()\n",
    "pred=mod.predict_generator(test_generator,\n",
    "steps=STEP_SIZE_TEST,\n",
    "verbose=1)"
   ]
  },
  {
   "cell_type": "code",
   "execution_count": 26,
   "id": "0148a7f6",
   "metadata": {},
   "outputs": [
    {
     "data": {
      "text/plain": [
       "array([[1.4523935e-08, 1.7907429e-11, 1.8249258e-07, ..., 8.1584943e-09,\n",
       "        7.8995548e-09, 1.6977764e-09],\n",
       "       [3.0882558e-05, 2.4337189e-07, 4.3895812e-05, ..., 3.2097055e-04,\n",
       "        4.0579336e-05, 3.8685273e-05],\n",
       "       [9.7548467e-01, 2.1596238e-02, 4.3818945e-06, ..., 7.0095069e-07,\n",
       "        2.6834387e-06, 1.5807312e-03],\n",
       "       ...,\n",
       "       [9.5627987e-04, 2.1933722e-03, 6.9500245e-05, ..., 3.0129042e-06,\n",
       "        1.0318067e-02, 1.0475981e-03],\n",
       "       [3.0431417e-09, 2.0264390e-09, 9.8190951e-01, ..., 2.1169612e-08,\n",
       "        1.0124691e-06, 3.1228931e-09],\n",
       "       [7.3888629e-08, 1.1448166e-09, 1.1747418e-10, ..., 1.8521455e-07,\n",
       "        1.6564923e-06, 1.4586227e-04]], dtype=float32)"
      ]
     },
     "execution_count": 26,
     "metadata": {},
     "output_type": "execute_result"
    }
   ],
   "source": [
    "pred"
   ]
  },
  {
   "cell_type": "code",
   "execution_count": 27,
   "id": "a77b9112",
   "metadata": {},
   "outputs": [
    {
     "data": {
      "text/plain": [
       "79726"
      ]
     },
     "execution_count": 27,
     "metadata": {},
     "output_type": "execute_result"
    }
   ],
   "source": [
    "len(pred)"
   ]
  },
  {
   "cell_type": "code",
   "execution_count": 28,
   "id": "3a610e36",
   "metadata": {},
   "outputs": [
    {
     "data": {
      "text/html": [
       "<div>\n",
       "<style scoped>\n",
       "    .dataframe tbody tr th:only-of-type {\n",
       "        vertical-align: middle;\n",
       "    }\n",
       "\n",
       "    .dataframe tbody tr th {\n",
       "        vertical-align: top;\n",
       "    }\n",
       "\n",
       "    .dataframe thead th {\n",
       "        text-align: right;\n",
       "    }\n",
       "</style>\n",
       "<table border=\"1\" class=\"dataframe\">\n",
       "  <thead>\n",
       "    <tr style=\"text-align: right;\">\n",
       "      <th></th>\n",
       "      <th>0</th>\n",
       "      <th>1</th>\n",
       "      <th>2</th>\n",
       "      <th>3</th>\n",
       "      <th>4</th>\n",
       "      <th>5</th>\n",
       "      <th>6</th>\n",
       "      <th>7</th>\n",
       "      <th>8</th>\n",
       "      <th>9</th>\n",
       "    </tr>\n",
       "  </thead>\n",
       "  <tbody>\n",
       "    <tr>\n",
       "      <th>0</th>\n",
       "      <td>1.452393e-08</td>\n",
       "      <td>1.790743e-11</td>\n",
       "      <td>1.824926e-07</td>\n",
       "      <td>7.931320e-07</td>\n",
       "      <td>6.234226e-06</td>\n",
       "      <td>9.999927e-01</td>\n",
       "      <td>2.548325e-08</td>\n",
       "      <td>8.158494e-09</td>\n",
       "      <td>7.899555e-09</td>\n",
       "      <td>1.697776e-09</td>\n",
       "    </tr>\n",
       "    <tr>\n",
       "      <th>1</th>\n",
       "      <td>3.088256e-05</td>\n",
       "      <td>2.433719e-07</td>\n",
       "      <td>4.389581e-05</td>\n",
       "      <td>9.577788e-06</td>\n",
       "      <td>7.308569e-06</td>\n",
       "      <td>9.994753e-01</td>\n",
       "      <td>3.261042e-05</td>\n",
       "      <td>3.209705e-04</td>\n",
       "      <td>4.057934e-05</td>\n",
       "      <td>3.868527e-05</td>\n",
       "    </tr>\n",
       "    <tr>\n",
       "      <th>2</th>\n",
       "      <td>9.754847e-01</td>\n",
       "      <td>2.159624e-02</td>\n",
       "      <td>4.381895e-06</td>\n",
       "      <td>1.263323e-03</td>\n",
       "      <td>6.636329e-05</td>\n",
       "      <td>1.164965e-07</td>\n",
       "      <td>8.224915e-07</td>\n",
       "      <td>7.009507e-07</td>\n",
       "      <td>2.683439e-06</td>\n",
       "      <td>1.580731e-03</td>\n",
       "    </tr>\n",
       "    <tr>\n",
       "      <th>3</th>\n",
       "      <td>2.820949e-03</td>\n",
       "      <td>8.962834e-04</td>\n",
       "      <td>5.368001e-02</td>\n",
       "      <td>2.088523e-05</td>\n",
       "      <td>1.546885e-02</td>\n",
       "      <td>5.446452e-02</td>\n",
       "      <td>1.024514e-01</td>\n",
       "      <td>1.329828e-05</td>\n",
       "      <td>6.853583e-01</td>\n",
       "      <td>8.482552e-02</td>\n",
       "    </tr>\n",
       "    <tr>\n",
       "      <th>4</th>\n",
       "      <td>2.725124e-02</td>\n",
       "      <td>1.494605e-07</td>\n",
       "      <td>5.326558e-05</td>\n",
       "      <td>8.266088e-01</td>\n",
       "      <td>1.147808e-01</td>\n",
       "      <td>1.761292e-04</td>\n",
       "      <td>2.172256e-04</td>\n",
       "      <td>1.603215e-02</td>\n",
       "      <td>1.452290e-02</td>\n",
       "      <td>3.573550e-04</td>\n",
       "    </tr>\n",
       "    <tr>\n",
       "      <th>...</th>\n",
       "      <td>...</td>\n",
       "      <td>...</td>\n",
       "      <td>...</td>\n",
       "      <td>...</td>\n",
       "      <td>...</td>\n",
       "      <td>...</td>\n",
       "      <td>...</td>\n",
       "      <td>...</td>\n",
       "      <td>...</td>\n",
       "      <td>...</td>\n",
       "    </tr>\n",
       "    <tr>\n",
       "      <th>79721</th>\n",
       "      <td>2.659321e-03</td>\n",
       "      <td>9.932365e-01</td>\n",
       "      <td>1.937306e-04</td>\n",
       "      <td>1.367027e-05</td>\n",
       "      <td>6.689672e-06</td>\n",
       "      <td>9.252058e-07</td>\n",
       "      <td>8.056751e-04</td>\n",
       "      <td>2.060951e-03</td>\n",
       "      <td>6.168651e-04</td>\n",
       "      <td>4.056710e-04</td>\n",
       "    </tr>\n",
       "    <tr>\n",
       "      <th>79722</th>\n",
       "      <td>1.186416e-02</td>\n",
       "      <td>1.164710e-01</td>\n",
       "      <td>1.501644e-04</td>\n",
       "      <td>8.678921e-01</td>\n",
       "      <td>2.150866e-04</td>\n",
       "      <td>9.703088e-06</td>\n",
       "      <td>1.746280e-04</td>\n",
       "      <td>6.810389e-07</td>\n",
       "      <td>4.470389e-05</td>\n",
       "      <td>3.177736e-03</td>\n",
       "    </tr>\n",
       "    <tr>\n",
       "      <th>79723</th>\n",
       "      <td>9.562799e-04</td>\n",
       "      <td>2.193372e-03</td>\n",
       "      <td>6.950025e-05</td>\n",
       "      <td>1.641538e-03</td>\n",
       "      <td>9.610271e-01</td>\n",
       "      <td>1.916249e-04</td>\n",
       "      <td>2.255182e-02</td>\n",
       "      <td>3.012904e-06</td>\n",
       "      <td>1.031807e-02</td>\n",
       "      <td>1.047598e-03</td>\n",
       "    </tr>\n",
       "    <tr>\n",
       "      <th>79724</th>\n",
       "      <td>3.043142e-09</td>\n",
       "      <td>2.026439e-09</td>\n",
       "      <td>9.819095e-01</td>\n",
       "      <td>3.351223e-10</td>\n",
       "      <td>3.665455e-07</td>\n",
       "      <td>1.758701e-09</td>\n",
       "      <td>1.808904e-02</td>\n",
       "      <td>2.116961e-08</td>\n",
       "      <td>1.012469e-06</td>\n",
       "      <td>3.122893e-09</td>\n",
       "    </tr>\n",
       "    <tr>\n",
       "      <th>79725</th>\n",
       "      <td>7.388863e-08</td>\n",
       "      <td>1.144817e-09</td>\n",
       "      <td>1.174742e-10</td>\n",
       "      <td>2.495230e-09</td>\n",
       "      <td>6.299897e-11</td>\n",
       "      <td>9.998521e-01</td>\n",
       "      <td>3.334992e-08</td>\n",
       "      <td>1.852145e-07</td>\n",
       "      <td>1.656492e-06</td>\n",
       "      <td>1.458623e-04</td>\n",
       "    </tr>\n",
       "  </tbody>\n",
       "</table>\n",
       "<p>79726 rows × 10 columns</p>\n",
       "</div>"
      ],
      "text/plain": [
       "                  0             1             2             3             4  \\\n",
       "0      1.452393e-08  1.790743e-11  1.824926e-07  7.931320e-07  6.234226e-06   \n",
       "1      3.088256e-05  2.433719e-07  4.389581e-05  9.577788e-06  7.308569e-06   \n",
       "2      9.754847e-01  2.159624e-02  4.381895e-06  1.263323e-03  6.636329e-05   \n",
       "3      2.820949e-03  8.962834e-04  5.368001e-02  2.088523e-05  1.546885e-02   \n",
       "4      2.725124e-02  1.494605e-07  5.326558e-05  8.266088e-01  1.147808e-01   \n",
       "...             ...           ...           ...           ...           ...   \n",
       "79721  2.659321e-03  9.932365e-01  1.937306e-04  1.367027e-05  6.689672e-06   \n",
       "79722  1.186416e-02  1.164710e-01  1.501644e-04  8.678921e-01  2.150866e-04   \n",
       "79723  9.562799e-04  2.193372e-03  6.950025e-05  1.641538e-03  9.610271e-01   \n",
       "79724  3.043142e-09  2.026439e-09  9.819095e-01  3.351223e-10  3.665455e-07   \n",
       "79725  7.388863e-08  1.144817e-09  1.174742e-10  2.495230e-09  6.299897e-11   \n",
       "\n",
       "                  5             6             7             8             9  \n",
       "0      9.999927e-01  2.548325e-08  8.158494e-09  7.899555e-09  1.697776e-09  \n",
       "1      9.994753e-01  3.261042e-05  3.209705e-04  4.057934e-05  3.868527e-05  \n",
       "2      1.164965e-07  8.224915e-07  7.009507e-07  2.683439e-06  1.580731e-03  \n",
       "3      5.446452e-02  1.024514e-01  1.329828e-05  6.853583e-01  8.482552e-02  \n",
       "4      1.761292e-04  2.172256e-04  1.603215e-02  1.452290e-02  3.573550e-04  \n",
       "...             ...           ...           ...           ...           ...  \n",
       "79721  9.252058e-07  8.056751e-04  2.060951e-03  6.168651e-04  4.056710e-04  \n",
       "79722  9.703088e-06  1.746280e-04  6.810389e-07  4.470389e-05  3.177736e-03  \n",
       "79723  1.916249e-04  2.255182e-02  3.012904e-06  1.031807e-02  1.047598e-03  \n",
       "79724  1.758701e-09  1.808904e-02  2.116961e-08  1.012469e-06  3.122893e-09  \n",
       "79725  9.998521e-01  3.334992e-08  1.852145e-07  1.656492e-06  1.458623e-04  \n",
       "\n",
       "[79726 rows x 10 columns]"
      ]
     },
     "execution_count": 28,
     "metadata": {},
     "output_type": "execute_result"
    }
   ],
   "source": [
    "labels_test_predictions = pd.DataFrame(pred)\n",
    "labels_test_predictions"
   ]
  },
  {
   "cell_type": "code",
   "execution_count": 29,
   "id": "b6e4be96",
   "metadata": {},
   "outputs": [],
   "source": [
    "labels_test_predictions.columns = [\"c\"+str(x) for x in labels_test_predictions.columns]"
   ]
  },
  {
   "cell_type": "code",
   "execution_count": 30,
   "id": "c10f42d1",
   "metadata": {},
   "outputs": [],
   "source": [
    "labels_test_predictions.insert(0,\"img\",[x.split(\"\\\\\")[1] for x in test_generator.filenames])"
   ]
  },
  {
   "cell_type": "code",
   "execution_count": 31,
   "id": "ef763457",
   "metadata": {
    "scrolled": false
   },
   "outputs": [],
   "source": [
    "labels_test_predictions=labels_test_predictions.round(2)"
   ]
  },
  {
   "cell_type": "code",
   "execution_count": 32,
   "id": "8ed8a9fe",
   "metadata": {},
   "outputs": [],
   "source": [
    "labels_test_predictions.to_csv('Distracted_Driver_MultiAction_Classification.csv',index=False)"
   ]
  },
  {
   "cell_type": "markdown",
   "id": "4796344c",
   "metadata": {},
   "source": [
    "## Model Save"
   ]
  },
  {
   "cell_type": "code",
   "execution_count": 33,
   "id": "66d9a109",
   "metadata": {},
   "outputs": [],
   "source": [
    "mod.save_weights('./driverdistraction_lr_weights.h5', overwrite=True)\n",
    "mod.save('./driverdistraction.h5')"
   ]
  },
  {
   "cell_type": "code",
   "execution_count": null,
   "id": "b547e6c4",
   "metadata": {},
   "outputs": [],
   "source": []
  }
 ],
 "metadata": {
  "kernelspec": {
   "display_name": "Python 3",
   "language": "python",
   "name": "python3"
  },
  "language_info": {
   "codemirror_mode": {
    "name": "ipython",
    "version": 3
   },
   "file_extension": ".py",
   "mimetype": "text/x-python",
   "name": "python",
   "nbconvert_exporter": "python",
   "pygments_lexer": "ipython3",
   "version": "3.8.8"
  }
 },
 "nbformat": 4,
 "nbformat_minor": 5
}
